{
 "cells": [
  {
   "cell_type": "markdown",
   "id": "8c189152",
   "metadata": {},
   "source": [
    "# ASG 1 QFT Code (Dynoh_S10242384C)"
   ]
  },
  {
   "cell_type": "markdown",
   "id": "ba7328e0",
   "metadata": {},
   "source": [
    "## Importing Required Libraries"
   ]
  },
  {
   "cell_type": "code",
   "execution_count": null,
   "id": "1c9e2043",
   "metadata": {},
   "outputs": [],
   "source": [
    "from qiskit_ibm_runtime import QiskitRuntimeService, Sampler, SamplerV2\n",
    "from qiskit.visualization import plot_histogram\n",
    "from qiskit import QuantumCircuit, transpile\n",
    "from qiskit_aer import Aer\n",
    "from numpy import gcd # Greatest Common Divisor\n",
    "\n",
    "import matplotlib.pyplot as plt\n",
    "import numpy as np\n",
    "import math\n",
    "\n",
    "\n",
    "# Qiskit built-in function\n",
    "from qiskit.circuit.library import QFT\n",
    "\n",
    "%matplotlib inline"
   ]
  },
  {
   "cell_type": "markdown",
   "id": "d68a7b21",
   "metadata": {},
   "source": [
    "## Creating QFT Circuits"
   ]
  },
  {
   "cell_type": "code",
   "execution_count": 2,
   "id": "8915ede9",
   "metadata": {},
   "outputs": [],
   "source": [
    "# Function to Create QFT circuit\n",
    "def qft_circuit(num_qubits, insert_barriers=True, measure=True):\n",
    "    \n",
    "    qc = QuantumCircuit(num_qubits)\n",
    "    qft_circuit = QFT(num_qubits, do_swaps=True).decompose()\n",
    "    qc.compose(qft_circuit, inplace=True)\n",
    "    \n",
    "    # Measure Output\n",
    "    if measure:\n",
    "        qc.measure_all()\n",
    "    \n",
    "    return qc"
   ]
  },
  {
   "cell_type": "markdown",
   "id": "b2981f8c",
   "metadata": {},
   "source": [
    "## Using Built-In Function"
   ]
  },
  {
   "cell_type": "code",
   "execution_count": 3,
   "id": "268058d6",
   "metadata": {},
   "outputs": [
    {
     "data": {
      "image/png": "[encoded data removed]",
      "text/plain": [
       "<Figure size 1332.89x367.889 with 1 Axes>"
      ]
     },
     "metadata": {},
     "output_type": "display_data"
    }
   ],
   "source": [
    "# Define No. of Qubits\n",
    "num_qubits = 3\n",
    "\n",
    "# Create and Plot QFT Circuit\n",
    "qc = qft_circuit(num_qubits)\n",
    "display(qc.draw('mpl'))\n",
    "\n",
    "# Simulation of Circuit\n",
    "simulator = Aer.get_backend('qasm_simulator')\n",
    "result = simulator.run(qc, shots=1024).result()\n",
    "counts = result.get_counts()\n",
    "\n",
    "# Plotting Results\n",
    "plot_histogram(counts)\n",
    "plt.show()"
   ]
  },
  {
   "cell_type": "markdown",
   "id": "f120039e",
   "metadata": {},
   "source": [
    "## Using IBM Quantum"
   ]
  },
  {
   "cell_type": "code",
   "execution_count": 4,
   "id": "3e25135d",
   "metadata": {},
   "outputs": [],
   "source": [
    "#IBM Quantum Account Credentials\n",
    "QiskitRuntimeService.save_account(\n",
    "    channel=\"ibm_quantum\", \n",
    "    token=\"31bfe354e4c4037cc5f3e89a140702d671cd0a107fff32cfd70062a1cd206e436ea4ddbed3904cbdb7f8c7d04976b7362375f20d3d6cdba18223c4f0885f5e7c\",\n",
    "    overwrite=True\n",
    ")"
   ]
  },
  {
   "cell_type": "code",
   "execution_count": 5,
   "id": "2f6565cb",
   "metadata": {},
   "outputs": [
    {
     "name": "stdout",
     "output_type": "stream",
     "text": [
      "Backend: ibm_brisbane, Qubits: 127\n",
      "Backend: ibm_kyiv, Qubits: 127\n",
      "Backend: ibm_sherbrooke, Qubits: 127\n"
     ]
    }
   ],
   "source": [
    "# Load Service\n",
    "service = QiskitRuntimeService()\n",
    "\n",
    "# Check Available Backends\n",
    "backends = service.backends()\n",
    "for backend in backends:\n",
    "    print(f\"Backend: {backend.name}, Qubits: {backend.num_qubits}\")"
   ]
  },
  {
   "cell_type": "code",
   "execution_count": 7,
   "id": "83fe2d3e",
   "metadata": {},
   "outputs": [
    {
     "name": "stderr",
     "output_type": "stream",
     "text": [
      "C:\\Users\\dynoh\\anaconda3\\lib\\site-packages\\qiskit_ibm_runtime\\qiskit_runtime_service.py:822: UserWarning: The backend ibm_brisbane currently has a status of internal.\n",
      "  warnings.warn(\n"
     ]
    },
    {
     "name": "stdout",
     "output_type": "stream",
     "text": [
      "Running QFT circuit...\n"
     ]
    },
    {
     "ename": "AttributeError",
     "evalue": "'PrimitiveResult' object has no attribute 'samples'",
     "output_type": "error",
     "traceback": [
      "\u001b[1;31m---------------------------------------------------------------------------\u001b[0m",
      "\u001b[1;31mAttributeError\u001b[0m                            Traceback (most recent call last)",
      "Cell \u001b[1;32mIn[7], line 16\u001b[0m\n\u001b[0;32m     13\u001b[0m result \u001b[38;5;241m=\u001b[39m job\u001b[38;5;241m.\u001b[39mresult()\n\u001b[0;32m     15\u001b[0m \u001b[38;5;66;03m# Extract counts and plot results\u001b[39;00m\n\u001b[1;32m---> 16\u001b[0m counts \u001b[38;5;241m=\u001b[39m \u001b[43mresult\u001b[49m\u001b[38;5;241;43m.\u001b[39;49m\u001b[43msamples\u001b[49m[\u001b[38;5;241m0\u001b[39m]\n\u001b[0;32m     17\u001b[0m plot_histogram(counts)\n",
      "\u001b[1;31mAttributeError\u001b[0m: 'PrimitiveResult' object has no attribute 'samples'"
     ]
    }
   ],
   "source": [
    "# Selecting Backend to run Quantum Formula on\n",
    "backend = service.backend(\"ibm_brisbane\")\n",
    "\n",
    "# Transpile the circuit (Hadamard \"H\" converted to \"RZ + CX\" because the backend doesn’t support H)\n",
    "qc_transpiled = transpile(qc, backend)\n",
    "\n",
    "# Use Sampler Primitive\n",
    "sampler = SamplerV2(mode=backend)\n",
    "job = sampler.run([qc_transpiled])\n",
    "\n",
    "# Monitor Job Status\n",
    "print(\"Running QFT circuit...\")\n",
    "result = job.result()\n",
    "\n",
    "# Extract counts and plot results\n",
    "counts = result.samples[0]\n",
    "plot_histogram(counts)"
   ]
  },
  {
   "cell_type": "code",
   "execution_count": null,
   "id": "f5d1622d",
   "metadata": {},
   "outputs": [],
   "source": [
    "# Before Transpiling\n",
    "# q_0: ───H───X───\n",
    "# q_1: ───H───X───\n",
    "# q_2: ───H───────\n",
    "    \n",
    "# After Transpiling\n",
    "# q_0: ───RZ(π/2)──CX──RZ(-π/2)──\n",
    "# q_1: ───CX──────────────CX──────\n",
    "# q_2: ───RZ(π/2)──CX──RZ(-π/2)──"
   ]
  },
  {
   "cell_type": "markdown",
   "id": "be152a5c",
   "metadata": {},
   "source": [
    "## Building Shor's Algorithm"
   ]
  },
  {
   "cell_type": "code",
   "execution_count": null,
   "id": "19ed6831",
   "metadata": {},
   "outputs": [],
   "source": [
    "# Create modular exponentiation, a^x mod N\n",
    "def mod_exp(a, x, N):\n",
    "    return pow(a, x, N)"
   ]
  },
  {
   "cell_type": "code",
   "execution_count": null,
   "id": "7072083a",
   "metadata": {},
   "outputs": [],
   "source": [
    "#1 Pre Processing/Order Finding (Finding r for the function: f(x)=a^x mod N)\n",
    "def classical_part(N):\n",
    "    a = np.random.randint(2, N)\n",
    "    factor = math.gcd(a, N)  \n",
    "    \n",
    "    if factor != 1:  # If gcd not 1, factor found, Stop function\n",
    "        print(f\"Trivial factor: {factor}\")\n",
    "        return factor, None\n",
    "    \n",
    "    print(f\"Chosen a = {a}, moving on to quantum step\")\n",
    "    return None, a"
   ]
  },
  {
   "cell_type": "code",
   "execution_count": null,
   "id": "e878dbb5",
   "metadata": {},
   "outputs": [],
   "source": [
    "#2 Quantum Phase Estimation (QPE) to find the period r.\n",
    "def qpe_phase_estimation(a, N):\n",
    "    n_count = 8  # Number of counting qubits\n",
    "    qc = QuantumCircuit(n_count + 1, n_count)  # Extra qubit for calculations\n",
    "\n",
    "    # Initialize |1⟩ in second register\n",
    "    qc.x(n_count)  \n",
    "\n",
    "    # Apply Hadamards (H) on counting qubits\n",
    "    for qubit in range(n_count):\n",
    "        qc.h(qubit)\n",
    "\n",
    "    # Controlled modular exponentiation\n",
    "    for qubit in range(n_count):\n",
    "        exp = 2**qubit\n",
    "        qc.append(mod_exp_gate(a, exp, N), [qubit] + [n_count])  # Apply controlled mod exp\n",
    "\n",
    "    # Apply inverse QFT\n",
    "    qc.append(qft(n_count).inverse(), range(n_count))  \n",
    "\n",
    "    # Measure counting qubits\n",
    "    qc.measure(range(n_count), range(n_count))\n",
    "\n",
    "    return qc"
   ]
  },
  {
   "cell_type": "code",
   "execution_count": null,
   "id": "37f5d3f8",
   "metadata": {},
   "outputs": [],
   "source": [
    "#3 Running QPE with IBM Quantum Backend.\n",
    "def run_qpe(a, N):\n",
    "    backend = Aer.get_backend('ibm_brisbane')\n",
    "    qc = qpe_phase_estimation(a, N)\n",
    "\n",
    "    transpiled_qc = transpile(qc, backend)\n",
    "    obj = assemble(transpiled_qc)\n",
    "    result = backend.run(obj).result()\n",
    "    \n",
    "    # Get and Plot results\n",
    "    counts = result.get_counts()\n",
    "    plot_histogram(counts)\n",
    "\n",
    "    # Extract most frequent measurement result\n",
    "    measured_value = max(counts, key=counts.get)\n",
    "    phase = int(measured_value, 2) / 2**8  # Convert to decimal fraction\n",
    "\n",
    "    # Extract period r\n",
    "    r = int(round(1 / phase))\n",
    "    print(f\"Estimated period r = {r}\")\n",
    "    return r"
   ]
  },
  {
   "cell_type": "code",
   "execution_count": null,
   "id": "c42ef47e",
   "metadata": {},
   "outputs": [],
   "source": [
    "#4 Post Processing (compute factors from period r, r must be even for factorization)\n",
    "def find_factors(N, a, r):\n",
    "    if r % 2 != 0:\n",
    "        return None\n",
    "    \n",
    "    x = mod_exp(a, r // 2, N)\n",
    "    factor1 = math.gcd(x - 1, N)\n",
    "    factor2 = math.gcd(x + 1, N)\n",
    "\n",
    "    if factor1 == 1 or factor2 == 1:\n",
    "        print(\"Failed to find non-trivial factors\")\n",
    "        return\n",
    "    \n",
    "    print(f\"Factors of {N} are: {factor1} and {factor2}\")\n",
    "    return factor1, factor2"
   ]
  },
  {
   "cell_type": "code",
   "execution_count": null,
   "id": "3f67a84e",
   "metadata": {},
   "outputs": [],
   "source": [
    "#5 Building Shor's algorithm\n",
    "def shors_algorithm(N):\n",
    "    print(f\"Factoring {N} using Shor's Algorithm\")\n",
    "    print(\"---------------------------------------\")\n",
    "\n",
    "    # Step 1: Classical Preprocessing\n",
    "    factor, a = classical_part(N)\n",
    "    if factor:  # If we found a factor, return it\n",
    "        return factor, N // factor\n",
    "\n",
    "    # Step 2: Quantum Phase Estimation\n",
    "    r = run_qpe(a, N)\n",
    "\n",
    "    # Step 3: Use Classical Math to Compute Factors\n",
    "    return find_factors(N, a, r)"
   ]
  },
  {
   "cell_type": "code",
   "execution_count": null,
   "id": "71c6878d",
   "metadata": {},
   "outputs": [],
   "source": [
    "# Testing Shor's Algortithm on numbers ranging from 2-6 digits\n",
    "shors_algorithm(15)\n",
    "shors_algorithm(221)\n",
    "shors_algorithm(687)\n",
    "shors_algorithm(5141)"
   ]
  }
 ],
 "metadata": {
  "kernelspec": {
   "display_name": "Python 3 (ipykernel)",
   "language": "python",
   "name": "python3"
  },
  "language_info": {
   "codemirror_mode": {
    "name": "ipython",
    "version": 3
   },
   "file_extension": ".py",
   "mimetype": "text/x-python",
   "name": "python",
   "nbconvert_exporter": "python",
   "pygments_lexer": "ipython3",
   "version": "3.10.9"
  }
 },
 "nbformat": 4,
 "nbformat_minor": 5
}
